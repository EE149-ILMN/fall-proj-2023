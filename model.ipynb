{
 "cells": [
  {
   "cell_type": "markdown",
   "metadata": {},
   "source": [
    "# Final Project"
   ]
  },
  {
   "cell_type": "code",
   "execution_count": 146,
   "metadata": {},
   "outputs": [
    {
     "ename": "ModuleNotFoundError",
     "evalue": "No module named 'serial'",
     "output_type": "error",
     "traceback": [
      "\u001b[1;31m---------------------------------------------------------------------------\u001b[0m",
      "\u001b[1;31mModuleNotFoundError\u001b[0m                       Traceback (most recent call last)",
      "\u001b[1;32mc:\\Users\\Leonard Wei\\fall-proj-2023\\model.ipynb Cell 2\u001b[0m in \u001b[0;36m<cell line: 1>\u001b[1;34m()\u001b[0m\n\u001b[1;32m----> <a href='vscode-notebook-cell:/c%3A/Users/Leonard%20Wei/fall-proj-2023/model.ipynb#W1sZmlsZQ%3D%3D?line=0'>1</a>\u001b[0m \u001b[39mimport\u001b[39;00m \u001b[39mserial\u001b[39;00m\u001b[39m,\u001b[39m \u001b[39mtime\u001b[39;00m\n",
      "\u001b[1;31mModuleNotFoundError\u001b[0m: No module named 'serial'"
     ]
    }
   ],
   "source": [
    "import serial, time"
   ]
  },
  {
   "cell_type": "markdown",
   "metadata": {},
   "source": [
    "## Data Collection\n",
    "Run below cells to collect twitch data"
   ]
  },
  {
   "cell_type": "code",
   "execution_count": null,
   "metadata": {},
   "outputs": [
    {
     "ename": "NameError",
     "evalue": "name 'serial' is not defined",
     "output_type": "error",
     "traceback": [
      "\u001b[1;31m---------------------------------------------------------------------------\u001b[0m",
      "\u001b[1;31mNameError\u001b[0m                                 Traceback (most recent call last)",
      "Cell \u001b[1;32mIn[4], line 5\u001b[0m\n\u001b[0;32m      2\u001b[0m duration \u001b[39m=\u001b[39m \u001b[39m10\u001b[39m\n\u001b[0;32m      4\u001b[0m \u001b[39m# Setup Serial Communication\u001b[39;00m\n\u001b[1;32m----> 5\u001b[0m ser \u001b[39m=\u001b[39m serial\u001b[39m.\u001b[39mSerial(\u001b[39m'\u001b[39m\u001b[39mCOM4\u001b[39m\u001b[39m'\u001b[39m) \u001b[39m# TODO: Check if correct COM/TTYL port\u001b[39;00m\n\u001b[0;32m      6\u001b[0m ser\u001b[39m.\u001b[39mbaudrate \u001b[39m=\u001b[39m \u001b[39m9600\u001b[39m\n\u001b[0;32m      7\u001b[0m start_time \u001b[39m=\u001b[39m time\u001b[39m.\u001b[39mtime()\n",
      "\u001b[1;31mNameError\u001b[0m: name 'serial' is not defined"
     ]
    }
   ],
   "source": [
    "resolution = 100\n",
    "duration = 10\n",
    "\n",
    "# Setup Serial Communication\n",
    "ser = serial.Serial('COM4') # TODO: Check if correct COM/TTYL port\n",
    "ser.baudrate = 9600\n",
    "start_time = time.time()\n",
    "\n",
    "# Start Data Logging\n",
    "f = open('{0}.txt'.format(start_time), \"w\")\n",
    "while True:\n",
    "    curr_time = time.time()\n",
    "    if (curr_time - start_time > duration):\n",
    "        break\n",
    "    ser.write(str.encode('l'))\n",
    "    f.write(str(ser.readline()))\n",
    "ser.close()\n",
    "f.close()\n"
   ]
  },
  {
   "cell_type": "markdown",
   "metadata": {},
   "source": [
    "## Model Fitting\n",
    "https://www.tensorflow.org/lite/microcontrollers \n",
    "\n",
    "https://github.com/tensorflow/decision-forests"
   ]
  },
  {
   "cell_type": "code",
   "execution_count": null,
   "metadata": {},
   "outputs": [
    {
     "name": "stdout",
     "output_type": "stream",
     "text": [
      "Requirement already satisfied: numpy in c:\\users\\leonard wei\\anaconda3\\lib\\site-packages (from -r requirements.txt (line 1)) (1.21.5)\n",
      "Requirement already satisfied: pandas in c:\\users\\leonard wei\\anaconda3\\lib\\site-packages (from -r requirements.txt (line 2)) (1.4.2)\n",
      "Requirement already satisfied: matplotlib in c:\\users\\leonard wei\\anaconda3\\lib\\site-packages (from -r requirements.txt (line 3)) (3.5.1)\n",
      "Requirement already satisfied: scikit-learn in c:\\users\\leonard wei\\anaconda3\\lib\\site-packages (from -r requirements.txt (line 4)) (1.0.2)\n",
      "Collecting tensorflow\n",
      "  Downloading tensorflow-2.11.0-cp39-cp39-win_amd64.whl (1.9 kB)\n",
      "Requirement already satisfied: python-dateutil>=2.8.1 in c:\\users\\leonard wei\\anaconda3\\lib\\site-packages (from pandas->-r requirements.txt (line 2)) (2.8.2)\n",
      "Requirement already satisfied: pytz>=2020.1 in c:\\users\\leonard wei\\anaconda3\\lib\\site-packages (from pandas->-r requirements.txt (line 2)) (2021.3)\n",
      "Requirement already satisfied: fonttools>=4.22.0 in c:\\users\\leonard wei\\anaconda3\\lib\\site-packages (from matplotlib->-r requirements.txt (line 3)) (4.25.0)\n",
      "Requirement already satisfied: pillow>=6.2.0 in c:\\users\\leonard wei\\anaconda3\\lib\\site-packages (from matplotlib->-r requirements.txt (line 3)) (9.0.1)\n",
      "Requirement already satisfied: pyparsing>=2.2.1 in c:\\users\\leonard wei\\anaconda3\\lib\\site-packages (from matplotlib->-r requirements.txt (line 3)) (3.0.4)\n",
      "Requirement already satisfied: cycler>=0.10 in c:\\users\\leonard wei\\anaconda3\\lib\\site-packages (from matplotlib->-r requirements.txt (line 3)) (0.11.0)\n",
      "Requirement already satisfied: packaging>=20.0 in c:\\users\\leonard wei\\anaconda3\\lib\\site-packages (from matplotlib->-r requirements.txt (line 3)) (21.3)\n",
      "Requirement already satisfied: kiwisolver>=1.0.1 in c:\\users\\leonard wei\\anaconda3\\lib\\site-packages (from matplotlib->-r requirements.txt (line 3)) (1.3.2)\n",
      "Requirement already satisfied: threadpoolctl>=2.0.0 in c:\\users\\leonard wei\\anaconda3\\lib\\site-packages (from scikit-learn->-r requirements.txt (line 4)) (2.2.0)\n",
      "Requirement already satisfied: scipy>=1.1.0 in c:\\users\\leonard wei\\anaconda3\\lib\\site-packages (from scikit-learn->-r requirements.txt (line 4)) (1.7.3)\n",
      "Requirement already satisfied: joblib>=0.11 in c:\\users\\leonard wei\\anaconda3\\lib\\site-packages (from scikit-learn->-r requirements.txt (line 4)) (1.1.0)\n",
      "Collecting tensorflow-intel==2.11.0\n",
      "  Downloading tensorflow_intel-2.11.0-cp39-cp39-win_amd64.whl (266.3 MB)\n",
      "Collecting opt-einsum>=2.3.2\n",
      "  Using cached opt_einsum-3.3.0-py3-none-any.whl (65 kB)\n",
      "Collecting tensorflow-io-gcs-filesystem>=0.23.1\n",
      "  Downloading tensorflow_io_gcs_filesystem-0.28.0-cp39-cp39-win_amd64.whl (1.5 MB)\n",
      "Requirement already satisfied: grpcio<2.0,>=1.24.3 in c:\\users\\leonard wei\\anaconda3\\lib\\site-packages (from tensorflow-intel==2.11.0->tensorflow->-r requirements.txt (line 5)) (1.42.0)\n",
      "Collecting gast<=0.4.0,>=0.2.1\n",
      "  Using cached gast-0.4.0-py3-none-any.whl (9.8 kB)\n",
      "Collecting libclang>=13.0.0\n",
      "  Using cached libclang-14.0.6-py2.py3-none-win_amd64.whl (14.2 MB)\n",
      "Requirement already satisfied: setuptools in c:\\users\\leonard wei\\anaconda3\\lib\\site-packages (from tensorflow-intel==2.11.0->tensorflow->-r requirements.txt (line 5)) (61.2.0)\n",
      "Requirement already satisfied: wrapt>=1.11.0 in c:\\users\\leonard wei\\anaconda3\\lib\\site-packages (from tensorflow-intel==2.11.0->tensorflow->-r requirements.txt (line 5)) (1.12.1)\n",
      "Collecting tensorflow-estimator<2.12,>=2.11.0\n",
      "  Using cached tensorflow_estimator-2.11.0-py2.py3-none-any.whl (439 kB)\n",
      "Collecting google-pasta>=0.1.1\n",
      "  Using cached google_pasta-0.2.0-py3-none-any.whl (57 kB)\n",
      "Requirement already satisfied: typing-extensions>=3.6.6 in c:\\users\\leonard wei\\anaconda3\\lib\\site-packages (from tensorflow-intel==2.11.0->tensorflow->-r requirements.txt (line 5)) (4.1.1)\n",
      "Requirement already satisfied: six>=1.12.0 in c:\\users\\leonard wei\\anaconda3\\lib\\site-packages (from tensorflow-intel==2.11.0->tensorflow->-r requirements.txt (line 5)) (1.16.0)\n",
      "Requirement already satisfied: protobuf<3.20,>=3.9.2 in c:\\users\\leonard wei\\anaconda3\\lib\\site-packages (from tensorflow-intel==2.11.0->tensorflow->-r requirements.txt (line 5)) (3.19.1)\n",
      "Collecting keras<2.12,>=2.11.0\n",
      "  Using cached keras-2.11.0-py2.py3-none-any.whl (1.7 MB)\n",
      "Collecting flatbuffers>=2.0\n",
      "  Using cached flatbuffers-22.12.6-py2.py3-none-any.whl (26 kB)\n",
      "Collecting astunparse>=1.6.0\n",
      "  Using cached astunparse-1.6.3-py2.py3-none-any.whl (12 kB)\n",
      "Collecting absl-py>=1.0.0\n",
      "  Using cached absl_py-1.3.0-py3-none-any.whl (124 kB)\n",
      "Requirement already satisfied: h5py>=2.9.0 in c:\\users\\leonard wei\\anaconda3\\lib\\site-packages (from tensorflow-intel==2.11.0->tensorflow->-r requirements.txt (line 5)) (3.6.0)\n",
      "Collecting tensorboard<2.12,>=2.11\n",
      "  Using cached tensorboard-2.11.0-py3-none-any.whl (6.0 MB)\n",
      "Collecting termcolor>=1.1.0\n",
      "  Using cached termcolor-2.1.1-py3-none-any.whl (6.2 kB)\n",
      "Requirement already satisfied: wheel<1.0,>=0.23.0 in c:\\users\\leonard wei\\anaconda3\\lib\\site-packages (from astunparse>=1.6.0->tensorflow-intel==2.11.0->tensorflow->-r requirements.txt (line 5)) (0.37.1)\n",
      "Requirement already satisfied: werkzeug>=1.0.1 in c:\\users\\leonard wei\\anaconda3\\lib\\site-packages (from tensorboard<2.12,>=2.11->tensorflow-intel==2.11.0->tensorflow->-r requirements.txt (line 5)) (2.0.3)\n",
      "Requirement already satisfied: google-auth<3,>=1.6.3 in c:\\users\\leonard wei\\anaconda3\\lib\\site-packages (from tensorboard<2.12,>=2.11->tensorflow-intel==2.11.0->tensorflow->-r requirements.txt (line 5)) (1.33.0)\n",
      "Collecting google-auth-oauthlib<0.5,>=0.4.1\n",
      "  Using cached google_auth_oauthlib-0.4.6-py2.py3-none-any.whl (18 kB)\n",
      "Collecting tensorboard-data-server<0.7.0,>=0.6.0\n",
      "  Using cached tensorboard_data_server-0.6.1-py3-none-any.whl (2.4 kB)\n",
      "Collecting tensorboard-plugin-wit>=1.6.0\n",
      "  Using cached tensorboard_plugin_wit-1.8.1-py3-none-any.whl (781 kB)\n",
      "Requirement already satisfied: requests<3,>=2.21.0 in c:\\users\\leonard wei\\anaconda3\\lib\\site-packages (from tensorboard<2.12,>=2.11->tensorflow-intel==2.11.0->tensorflow->-r requirements.txt (line 5)) (2.27.1)\n",
      "Requirement already satisfied: markdown>=2.6.8 in c:\\users\\leonard wei\\anaconda3\\lib\\site-packages (from tensorboard<2.12,>=2.11->tensorflow-intel==2.11.0->tensorflow->-r requirements.txt (line 5)) (3.3.4)\n",
      "Requirement already satisfied: rsa<5,>=3.1.4 in c:\\users\\leonard wei\\anaconda3\\lib\\site-packages (from google-auth<3,>=1.6.3->tensorboard<2.12,>=2.11->tensorflow-intel==2.11.0->tensorflow->-r requirements.txt (line 5)) (4.7.2)\n",
      "Requirement already satisfied: cachetools<5.0,>=2.0.0 in c:\\users\\leonard wei\\anaconda3\\lib\\site-packages (from google-auth<3,>=1.6.3->tensorboard<2.12,>=2.11->tensorflow-intel==2.11.0->tensorflow->-r requirements.txt (line 5)) (4.2.2)\n",
      "Requirement already satisfied: pyasn1-modules>=0.2.1 in c:\\users\\leonard wei\\anaconda3\\lib\\site-packages (from google-auth<3,>=1.6.3->tensorboard<2.12,>=2.11->tensorflow-intel==2.11.0->tensorflow->-r requirements.txt (line 5)) (0.2.8)\n",
      "Collecting requests-oauthlib>=0.7.0\n",
      "  Using cached requests_oauthlib-1.3.1-py2.py3-none-any.whl (23 kB)\n",
      "Requirement already satisfied: pyasn1<0.5.0,>=0.4.6 in c:\\users\\leonard wei\\anaconda3\\lib\\site-packages (from pyasn1-modules>=0.2.1->google-auth<3,>=1.6.3->tensorboard<2.12,>=2.11->tensorflow-intel==2.11.0->tensorflow->-r requirements.txt (line 5)) (0.4.8)\n",
      "Requirement already satisfied: idna<4,>=2.5 in c:\\users\\leonard wei\\anaconda3\\lib\\site-packages (from requests<3,>=2.21.0->tensorboard<2.12,>=2.11->tensorflow-intel==2.11.0->tensorflow->-r requirements.txt (line 5)) (3.3)\n",
      "Requirement already satisfied: certifi>=2017.4.17 in c:\\users\\leonard wei\\anaconda3\\lib\\site-packages (from requests<3,>=2.21.0->tensorboard<2.12,>=2.11->tensorflow-intel==2.11.0->tensorflow->-r requirements.txt (line 5)) (2021.10.8)\n",
      "Requirement already satisfied: urllib3<1.27,>=1.21.1 in c:\\users\\leonard wei\\anaconda3\\lib\\site-packages (from requests<3,>=2.21.0->tensorboard<2.12,>=2.11->tensorflow-intel==2.11.0->tensorflow->-r requirements.txt (line 5)) (1.26.9)\n",
      "Requirement already satisfied: charset-normalizer~=2.0.0 in c:\\users\\leonard wei\\anaconda3\\lib\\site-packages (from requests<3,>=2.21.0->tensorboard<2.12,>=2.11->tensorflow-intel==2.11.0->tensorflow->-r requirements.txt (line 5)) (2.0.4)\n",
      "Collecting oauthlib>=3.0.0\n",
      "  Using cached oauthlib-3.2.2-py3-none-any.whl (151 kB)\n",
      "Installing collected packages: oauthlib, requests-oauthlib, tensorboard-plugin-wit, tensorboard-data-server, google-auth-oauthlib, absl-py, termcolor, tensorflow-io-gcs-filesystem, tensorflow-estimator, tensorboard, opt-einsum, libclang, keras, google-pasta, gast, flatbuffers, astunparse, tensorflow-intel, tensorflow\n",
      "Successfully installed absl-py-1.3.0 astunparse-1.6.3 flatbuffers-22.12.6 gast-0.4.0 google-auth-oauthlib-0.4.6 google-pasta-0.2.0 keras-2.11.0 libclang-14.0.6 oauthlib-3.2.2 opt-einsum-3.3.0 requests-oauthlib-1.3.1 tensorboard-2.11.0 tensorboard-data-server-0.6.1 tensorboard-plugin-wit-1.8.1 tensorflow-2.11.0 tensorflow-estimator-2.11.0 tensorflow-intel-2.11.0 tensorflow-io-gcs-filesystem-0.28.0 termcolor-2.1.1\n"
     ]
    }
   ],
   "source": [
    "import sys\n",
    "!python -m pip install -r requirements.txt"
   ]
  },
  {
   "cell_type": "code",
   "execution_count": 147,
   "metadata": {},
   "outputs": [],
   "source": [
    "import numpy as np\n",
    "import pandas as pd\n",
    "import matplotlib.pyplot as plt\n",
    "import sklearn.utils\n",
    "from sklearn.model_selection import train_test_split"
   ]
  },
  {
   "cell_type": "code",
   "execution_count": 148,
   "metadata": {},
   "outputs": [],
   "source": [
    "seed = 1\n",
    "np.random.seed(seed)\n",
    "tf.random.set_seed(seed)"
   ]
  },
  {
   "cell_type": "markdown",
   "metadata": {},
   "source": [
    "#### Load and Preprocess Data"
   ]
  },
  {
   "cell_type": "code",
   "execution_count": 149,
   "metadata": {},
   "outputs": [],
   "source": [
    "def load_data(file_num, path=''):\n",
    "    motion_file = f'{path}/motion/{file_num}_acceleration.txt'\n",
    "    sleep_file  = f'{path}/labels/{file_num}_labeled_sleep.txt'\n",
    "    motion_data = pd.read_csv(motion_file, delimiter=' ', names=['time', 'x', 'y', 'z'])\n",
    "    sleep_data  = pd.read_csv(sleep_file, delimiter=' ', names=['time', 'label'])\n",
    "    return motion_data, sleep_data\n",
    "\n",
    "def assign_sleep_to_motion(motion, sleep):\n",
    "    labels = []\n",
    "    index = 0\n",
    "    for t in range(len(motion)):\n",
    "        if (t > sleep['time'][index]):\n",
    "            index += 1\n",
    "        labels.append(sleep['label'][index])\n",
    "    data = np.array([motion['time'], motion['x'], motion['y'], motion['z'], labels]).T\n",
    "    df = pd.DataFrame(data, columns=['time', 'x', 'y', 'z', 'label'])\n",
    "    df = df.loc[df['label'] > -1]\n",
    "    return df\n",
    "\n",
    "def match_motion_to_sleep(motion, sleep):\n",
    "    _, _, indices = np.intersect1d(sleep['time'], motion['time'], return_indices=True)\n",
    "    data = np.array([sleep['time'], \n",
    "                    motion['x'][indices], \n",
    "                    motion['y'][indices], \n",
    "                    motion['z'][indices], \n",
    "                    sleep['label']]).T\n",
    "    df = pd.DataFrame(data, columns=['time', 'x', 'y', 'z', 'label'])\n",
    "    df = df.loc[df['label'] > -1]\n",
    "    return df\n",
    "\n",
    "def get_motion_average(motion):\n",
    "    motion_time = np.clip(np.floor(motion['time']), min(sleep['time']), max(sleep['time']))\n",
    "    motion_time, motion_indices = np.unique(motion_time, return_index=True)\n",
    "    avg_x = np.array([np.average(motion['x'][i]) for i in motion_indices])\n",
    "    avg_y = np.array([np.average(motion['y'][i]) for i in motion_indices])\n",
    "    avg_z = np.array([np.average(motion['z'][i]) for i in motion_indices])\n",
    "    data = np.array([motion_time, avg_x, avg_y, avg_z]).T\n",
    "    df = pd.DataFrame(data, columns=['time', 'x', 'y', 'z'])\n",
    "    return df\n",
    "\n",
    "def plot_data(df, title=''):\n",
    "    fig = plt.figure()\n",
    "    ax = plt.axes(projection='3d')\n",
    "    ax.set_title(title)\n",
    "    plot = lambda d, c, m : ax.scatter3D(d['x'], d['y'], d['z'], c=c, marker=m)\n",
    "    colors = ['r', 'm', 'y', 'g', 'b', 'c']\n",
    "    [plot(df.loc[df['label'] == i], colors[i], '.') for i in range(6)]\n",
    "    "
   ]
  },
  {
   "cell_type": "code",
   "execution_count": 150,
   "metadata": {},
   "outputs": [
    {
     "name": "stdout",
     "output_type": "stream",
     "text": [
      "(347603, 5)\n"
     ]
    },
    {
     "data": {
      "text/plain": [
       "[<mpl_toolkits.mplot3d.art3d.Path3DCollection at 0x25c902843a0>,\n",
       " <mpl_toolkits.mplot3d.art3d.Path3DCollection at 0x25c90284850>,\n",
       " <mpl_toolkits.mplot3d.art3d.Path3DCollection at 0x25c90284d00>,\n",
       " <mpl_toolkits.mplot3d.art3d.Path3DCollection at 0x25c902a01f0>,\n",
       " <mpl_toolkits.mplot3d.art3d.Path3DCollection at 0x25c90284220>,\n",
       " <mpl_toolkits.mplot3d.art3d.Path3DCollection at 0x25c902a09a0>]"
      ]
     },
     "execution_count": 150,
     "metadata": {},
     "output_type": "execute_result"
    },
    {
     "data": {
      "image/png": "[encoded data removed]",
      "text/plain": [
       "<Figure size 432x288 with 1 Axes>"
      ]
     },
     "metadata": {
      "needs_background": "light"
     },
     "output_type": "display_data"
    }
   ],
   "source": [
    "file_nums = ['46343', '781756', '844359', '1066528', '1449548', '1818471', '2598705', '2638030', '3997827', \n",
    "'4018081', '4314139', '4426783', '5383425', '5498603', '5797046', '6220552', '7749105', '8000685', '8173033',\n",
    "'8258170', '8686948', '9961348']\n",
    "prep_func = lambda d: assign_sleep_to_motion(get_motion_average(d[0]), d[1])\n",
    "data = [load_data(num, './data') for num in file_nums]\n",
    "df = pd.concat([prep_func(d) for d in data], axis=0, ignore_index=True)\n",
    "print(df.shape)\n",
    "fig = plt.figure()\n",
    "ax = plt.axes(projection='3d')\n",
    "ax.set_title(\"all\")\n",
    "plot = lambda d, c, m : ax.scatter3D(d['x'], d['y'], d['z'], c=c, marker=m)\n",
    "colors = ['r', 'm', 'y', 'g', 'b', 'c']\n",
    "[plot(df.loc[df['label'] == i], colors[i], '.') for i in range(6)]"
   ]
  },
  {
   "cell_type": "code",
   "execution_count": 163,
   "metadata": {},
   "outputs": [],
   "source": [
    "train, test = train_test_split(df, test_size=0.2)\n",
    "train, valid = train_test_split(train, test_size=0.25)\n",
    "x_train, y_train = train[['x', 'y', 'z']].to_numpy(), train['label'].to_numpy()\n",
    "x_valid, y_valid = valid[['x', 'y', 'z']].to_numpy(), valid['label'].to_numpy()\n",
    "x_test, y_test = test[['x', 'y', 'z']].to_numpy(), test['label'].to_numpy()"
   ]
  },
  {
   "cell_type": "markdown",
   "metadata": {},
   "source": [
    "#### Train Model"
   ]
  },
  {
   "cell_type": "code",
   "execution_count": 164,
   "metadata": {},
   "outputs": [],
   "source": [
    "import numpy as np\n",
    "import tensorflow as tf\n",
    "from tensorflow import keras\n",
    "from tensorflow.keras.layers import Layer, Conv2D, BatchNormalization, MaxPooling2D,Flatten,Dropout,Dense"
   ]
  },
  {
   "cell_type": "code",
   "execution_count": 165,
   "metadata": {},
   "outputs": [
    {
     "name": "stdout",
     "output_type": "stream",
     "text": [
      "Model: \"sequential_26\"\n",
      "_________________________________________________________________\n",
      " Layer (type)                Output Shape              Param #   \n",
      "=================================================================\n",
      " dense_48 (Dense)            (None, 8)                 32        \n",
      "                                                                 \n",
      " dense_49 (Dense)            (None, 6)                 54        \n",
      "                                                                 \n",
      "=================================================================\n",
      "Total params: 86\n",
      "Trainable params: 86\n",
      "Non-trainable params: 0\n",
      "_________________________________________________________________\n"
     ]
    }
   ],
   "source": [
    "# Simple Neural Network\n",
    "class argmax_layer(Layer):\n",
    "  def __init__(self):\n",
    "    super(argmax_layer, self).__init__()\n",
    "\n",
    "  def call(self, inputs):\n",
    "    return tf.math.argmax(inputs, axis=1)\n",
    "\n",
    "model = tf.keras.Sequential()\n",
    "model.add(keras.layers.Dense(8, activation='relu', input_shape=(3,)))\n",
    "model.add(keras.layers.Dense(6))\n",
    "# model.add(argmax_layer())\n",
    "model.summary()"
   ]
  },
  {
   "cell_type": "code",
   "execution_count": 166,
   "metadata": {},
   "outputs": [],
   "source": [
    "%%capture\n",
    "# Compile and fit\n",
    "model.compile(optimizer='adam', \n",
    "              loss=tf.keras.losses.SparseCategoricalCrossentropy(from_logits=True), \n",
    "              metrics=['accuracy'])\n",
    "history = model.fit(x_train, y_train, epochs=100, validation_data=(x_valid, y_valid))"
   ]
  },
  {
   "cell_type": "code",
   "execution_count": 167,
   "metadata": {},
   "outputs": [
    {
     "data": {
      "image/png": "[encoded data removed]",
      "text/plain": [
       "<Figure size 432x288 with 1 Axes>"
      ]
     },
     "metadata": {
      "needs_background": "light"
     },
     "output_type": "display_data"
    }
   ],
   "source": [
    "# Draw a graph of the loss, which is the distance between\n",
    "# the predicted and actual values during training and validation.\n",
    "train_loss = history.history['loss']\n",
    "val_loss = history.history['val_loss']\n",
    "\n",
    "epochs = range(1, len(train_loss) + 1)\n",
    "\n",
    "SKIP = 50\n",
    "\n",
    "plt.plot(epochs[SKIP:], train_loss[SKIP:], 'g.', label='Training loss')\n",
    "plt.plot(epochs[SKIP:], val_loss[SKIP:], 'b.', label='Validation loss')\n",
    "plt.title('Training and validation loss')\n",
    "plt.xlabel('Epochs')\n",
    "plt.ylabel('Loss')\n",
    "plt.legend()\n",
    "plt.show()"
   ]
  },
  {
   "cell_type": "code",
   "execution_count": 168,
   "metadata": {},
   "outputs": [
    {
     "data": {
      "image/png": "[encoded data removed]",
      "text/plain": [
       "<Figure size 432x288 with 1 Axes>"
      ]
     },
     "metadata": {
      "needs_background": "light"
     },
     "output_type": "display_data"
    }
   ],
   "source": [
    "plt.clf()\n",
    "\n",
    "# Draw a graph of mean absolute error, which is another way of\n",
    "# measuring the amount of error in the prediction.\n",
    "train_acc = history.history['accuracy']\n",
    "val_acc = history.history['val_accuracy']\n",
    "\n",
    "plt.plot(epochs[SKIP:], train_acc[SKIP:], 'g.', label='Training Accuracy')\n",
    "plt.plot(epochs[SKIP:], val_acc[SKIP:], 'b.', label='Validation Accuracy')\n",
    "plt.title('Training and validation accuracy')\n",
    "plt.xlabel('Epochs')\n",
    "plt.ylabel('Accuracy')\n",
    "plt.legend()\n",
    "plt.show()"
   ]
  },
  {
   "cell_type": "code",
   "execution_count": 169,
   "metadata": {},
   "outputs": [
    {
     "name": "stdout",
     "output_type": "stream",
     "text": [
      "2173/2173 [==============================] - 1s 506us/step - loss: 1.3494 - accuracy: 0.5004\n",
      "2173/2173 [==============================] - 1s 434us/step\n"
     ]
    },
    {
     "data": {
      "image/png": "[encoded data removed]",
      "text/plain": [
       "<Figure size 432x288 with 1 Axes>"
      ]
     },
     "metadata": {
      "needs_background": "light"
     },
     "output_type": "display_data"
    }
   ],
   "source": [
    "# Calculate and print the loss on our test dataset\n",
    "test_loss, test_acc = model.evaluate(x_test, y_test)\n",
    "\n",
    "# Make predictions based on our test dataset\n",
    "y_test_pred = model.predict(x_test)\n",
    "y_test_pred_label = np.argmax(y_test_pred, axis=1)\n",
    "\n",
    "# Graph the predictions against the actual values\n",
    "plt.clf()\n",
    "plt.title('Comparison of predictions and actual values')\n",
    "plt.plot(x_test, y_test, 'b.', label='Actual values')\n",
    "plt.plot(x_test, y_test_pred_label, 'r.', label='TF predictions')\n",
    "plt.legend()\n",
    "plt.show()"
   ]
  },
  {
   "cell_type": "markdown",
   "metadata": {},
   "source": [
    "#### Convert Tflite model for microcontroler"
   ]
  },
  {
   "cell_type": "code",
   "execution_count": 16,
   "metadata": {},
   "outputs": [],
   "source": [
    "# def representative_dataset():\n",
    "#     for _ in range(500):\n",
    "#       data = np.random.rand(1,3)\n",
    "#       yield [data.astype(np.float32)]"
   ]
  },
  {
   "cell_type": "code",
   "execution_count": 170,
   "metadata": {},
   "outputs": [
    {
     "name": "stderr",
     "output_type": "stream",
     "text": [
      "WARNING:absl:Found untraced functions such as _update_step_xla while saving (showing 1 of 1). These functions will not be directly callable after loading.\n"
     ]
    },
    {
     "name": "stdout",
     "output_type": "stream",
     "text": [
      "INFO:tensorflow:Assets written to: C:\\Users\\LEONAR~1\\AppData\\Local\\Temp\\tmp9pti_8we\\assets\n"
     ]
    },
    {
     "name": "stderr",
     "output_type": "stream",
     "text": [
      "INFO:tensorflow:Assets written to: C:\\Users\\LEONAR~1\\AppData\\Local\\Temp\\tmp9pti_8we\\assets\n"
     ]
    }
   ],
   "source": [
    "# Convert and sove\n",
    "converter = tf.lite.TFLiteConverter.from_keras_model(model)\n",
    "# converter.optimizations = [tf.lite.Optimize.DEFAULT]\n",
    "# converter.target_spec.supported_ops = [tf.lite.OpsSet.TFLITE_BUILTINS_INT8]\n",
    "# converter.inference_input_type = tf.int8\n",
    "# converter.inference_output_type = tf.int8\n",
    "# converter.representative_dataset = representative_dataset\n",
    "tflite_model = converter.convert()\n",
    "with open('model/model.tflite', 'wb') as f:\n",
    "  f.write(tflite_model)"
   ]
  },
  {
   "cell_type": "code",
   "execution_count": 10,
   "metadata": {},
   "outputs": [],
   "source": [
    "!xxd -i model/model.tflite > model/model.cpp\n",
    "# Update variable names\n",
    "REPLACE_TEXT = 'model/model.tflite'.replace('/', '_').replace('.', '_')\n",
    "!sed -i 's/'{REPLACE_TEXT}'/g_model/g' {'model/model.cpp'}\n",
    "!cp model/model.cpp lib/model/model.cpp"
   ]
  },
  {
   "cell_type": "code",
   "execution_count": null,
   "metadata": {},
   "outputs": [],
   "source": []
  }
 ],
 "metadata": {
  "kernelspec": {
   "display_name": "Python 3 (ipykernel)",
   "language": "python",
   "name": "python3"
  },
  "language_info": {
   "codemirror_mode": {
    "name": "ipython",
    "version": 3
   },
   "file_extension": ".py",
   "mimetype": "text/x-python",
   "name": "python",
   "nbconvert_exporter": "python",
   "pygments_lexer": "ipython3",
   "version": "3.9.12"
  },
  "vscode": {
   "interpreter": {
    "hash": "71e703ebc49c9c74da1c8780a45cf078d7f6a553447bc1540b00edb0fa8ece38"
   }
  }
 },
 "nbformat": 4,
 "nbformat_minor": 4
}
